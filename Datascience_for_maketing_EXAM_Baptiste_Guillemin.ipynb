{
  "nbformat": 4,
  "nbformat_minor": 0,
  "metadata": {
    "colab": {
      "provenance": []
    },
    "kernelspec": {
      "name": "python3",
      "display_name": "Python 3"
    },
    "language_info": {
      "name": "python"
    }
  },
  "cells": [
    {
      "cell_type": "markdown",
      "source": [
        "#Exam data science for marketing\n",
        "\n",
        "Baptiste Guillemin PGE4"
      ],
      "metadata": {
        "id": "1XWOvWhfr0nl"
      }
    },
    {
      "cell_type": "markdown",
      "source": [
        "##I."
      ],
      "metadata": {
        "id": "Hbm4QRZQe6eo"
      }
    },
    {
      "cell_type": "code",
      "execution_count": 69,
      "metadata": {
        "colab": {
          "base_uri": "https://localhost:8080/"
        },
        "id": "bj33DHQHetU0",
        "outputId": "997ebe8d-5f7d-4235-f236-e8d0f22f3e9c"
      },
      "outputs": [
        {
          "output_type": "stream",
          "name": "stdout",
          "text": [
            "   CustomerId  CreditScore  Gender  Age  Tenure    Balance  NumOfProducts  \\\n",
            "0    15634602          619       1   42       2       0.00              1   \n",
            "1    15647311          608       1   41       1   83807.86              1   \n",
            "2    15619304          502       1   42       8  159660.80              3   \n",
            "3    15701354          699       1   39       1       0.00              2   \n",
            "4    15737888          850       1   43       2  125510.82              1   \n",
            "\n",
            "   HasCrCard  IsActiveMember  EstimatedSalary  Exited  \n",
            "0          1               1        101348.88       1  \n",
            "1          0               1        112542.58       0  \n",
            "2          1               0        113931.57       1  \n",
            "3          0               0         93826.63       0  \n",
            "4          1               1         79084.10       0  \n"
          ]
        }
      ],
      "source": [
        "import pandas as pd\n",
        "import numpy as np\n",
        "\n",
        "# Load the CSV file into a pandas dataframe\n",
        "df = pd.read_csv('Churn_Modelling.csv')\n",
        "\n",
        "# Print the first 5 lines of the dataframe\n",
        "print(df.head())\n",
        "\n",
        "# Convert the dataframe to a numpy array\n",
        "np_array = df.to_numpy()"
      ]
    },
    {
      "cell_type": "markdown",
      "source": [
        "##II."
      ],
      "metadata": {
        "id": "G3umaXQAfGlw"
      }
    },
    {
      "cell_type": "code",
      "source": [
        "import pandas as pd\n",
        "\n",
        "# Load the CSV file into a pandas dataframe\n",
        "df = pd.read_csv('Churn_Modelling.csv')\n",
        "\n",
        "# Print the list of columns in the dataframe\n",
        "print(df.columns)\n",
        "\n",
        "# Check for missing values in each column\n",
        "print(df.isnull().sum())"
      ],
      "metadata": {
        "colab": {
          "base_uri": "https://localhost:8080/"
        },
        "id": "Q-7AveHve-aH",
        "outputId": "f0a6ead9-dcf7-4671-d629-131edc30c375"
      },
      "execution_count": 54,
      "outputs": [
        {
          "output_type": "stream",
          "name": "stdout",
          "text": [
            "Index(['CustomerId', 'CreditScore', 'Gender', 'Age', 'Tenure', 'Balance',\n",
            "       'NumOfProducts', 'HasCrCard', 'IsActiveMember', 'EstimatedSalary',\n",
            "       'Exited'],\n",
            "      dtype='object')\n",
            "CustomerId         0\n",
            "CreditScore        0\n",
            "Gender             0\n",
            "Age                0\n",
            "Tenure             0\n",
            "Balance            0\n",
            "NumOfProducts      0\n",
            "HasCrCard          0\n",
            "IsActiveMember     0\n",
            "EstimatedSalary    0\n",
            "Exited             0\n",
            "dtype: int64\n"
          ]
        }
      ]
    },
    {
      "cell_type": "code",
      "source": [
        "# Get the unique count of each variable\n",
        "for col in df.columns:\n",
        "    unique_count = len(df[col].unique())\n",
        "    print(\"The unique count of {} is: {}\".format(col, unique_count))"
      ],
      "metadata": {
        "colab": {
          "base_uri": "https://localhost:8080/"
        },
        "id": "YoTjvPLCfZOg",
        "outputId": "8a6d9414-605f-4f9f-9e51-6abf7e15823b"
      },
      "execution_count": 55,
      "outputs": [
        {
          "output_type": "stream",
          "name": "stdout",
          "text": [
            "The unique count of CustomerId is: 10000\n",
            "The unique count of CreditScore is: 460\n",
            "The unique count of Gender is: 2\n",
            "The unique count of Age is: 70\n",
            "The unique count of Tenure is: 11\n",
            "The unique count of Balance is: 6382\n",
            "The unique count of NumOfProducts is: 4\n",
            "The unique count of HasCrCard is: 2\n",
            "The unique count of IsActiveMember is: 2\n",
            "The unique count of EstimatedSalary is: 9999\n",
            "The unique count of Exited is: 2\n"
          ]
        }
      ]
    },
    {
      "cell_type": "markdown",
      "source": [
        "##III."
      ],
      "metadata": {
        "id": "uu1NI-QKhEVU"
      }
    },
    {
      "cell_type": "code",
      "source": [
        "import matplotlib.pyplot as plt\n",
        "\n",
        "# Get the size (shape) of the dataframe\n",
        "size = df.shape\n",
        "print(\"The size of the dataframe is:\", size)\n",
        "\n",
        "# Create a variable Y containing the 10th column of the file\n",
        "Y = df.iloc[:, 10]"
      ],
      "metadata": {
        "colab": {
          "base_uri": "https://localhost:8080/"
        },
        "id": "51ZqYoeAgHIc",
        "outputId": "52005672-2fd3-4bc2-e973-a96208e1b361"
      },
      "execution_count": 56,
      "outputs": [
        {
          "output_type": "stream",
          "name": "stdout",
          "text": [
            "The size of the dataframe is: (10000, 11)\n"
          ]
        }
      ]
    },
    {
      "cell_type": "code",
      "source": [
        "# Count the number of positive and negative examples in Y\n",
        "positive_count = sum(Y == 1)\n",
        "negative_count = sum(Y == 0)\n",
        "\n",
        "# Plot the counts as a bar chart\n",
        "plt.bar([0, 1], [negative_count, positive_count], color='green')\n",
        "plt.xticks([0, 1], ['Negative', 'Positive'])\n",
        "plt.xlabel('clients that Exite')\n",
        "plt.ylabel('Count')\n",
        "plt.title('Number of Positive and Negative Examples')\n",
        "plt.show()"
      ],
      "metadata": {
        "colab": {
          "base_uri": "https://localhost:8080/",
          "height": 472
        },
        "id": "rvmvUG68hFbj",
        "outputId": "2773a63f-926c-41d2-a1ac-d40d67a0a1d9"
      },
      "execution_count": 57,
      "outputs": [
        {
          "output_type": "display_data",
          "data": {
            "text/plain": [
              "<Figure size 640x480 with 1 Axes>"
            ],
            "image/png": "[encoded data removed]"
          },
          "metadata": {}
        }
      ]
    },
    {
      "cell_type": "code",
      "source": [
        "from sklearn.model_selection import train_test_split\n",
        "\n",
        "# split the dataset into training and testing sets\n",
        "X = df.iloc[:, :-1]\n",
        "Y = df.iloc[:, -1]\n",
        "X_train, X_test, Y_train, Y_test = train_test_split(X, Y, test_size=0.25, random_state=1)\n",
        "\n",
        "# Display the size of the training and testing sets\n",
        "print(\"Size of X_train:\", X_train.shape)\n",
        "print(\"Size of X_test:\", X_test.shape)"
      ],
      "metadata": {
        "colab": {
          "base_uri": "https://localhost:8080/"
        },
        "id": "wg2giN2hhjS7",
        "outputId": "e8d06160-4dd9-4010-a256-9454cd73501b"
      },
      "execution_count": 58,
      "outputs": [
        {
          "output_type": "stream",
          "name": "stdout",
          "text": [
            "Size of X_train: (7500, 10)\n",
            "Size of X_test: (2500, 10)\n"
          ]
        }
      ]
    },
    {
      "cell_type": "markdown",
      "source": [
        "##IV."
      ],
      "metadata": {
        "id": "6Me98S-GikMS"
      }
    },
    {
      "cell_type": "markdown",
      "source": [
        "#Decision tree"
      ],
      "metadata": {
        "id": "D7rGEtYkjfS5"
      }
    },
    {
      "cell_type": "code",
      "source": [
        "from sklearn.tree import DecisionTreeClassifier\n",
        "from sklearn.metrics import accuracy_score, recall_score, precision_score, confusion_matrix\n",
        "\n",
        "# Split the dataset into training and testing sets\n",
        "X_train, X_test, Y_train, Y_test = train_test_split(X, Y, test_size=0.25, random_state=1)\n",
        "\n",
        "# Create a Decision Tree Classifier object with entropy as the separation criterion\n",
        "dt_classifier = DecisionTreeClassifier(criterion='entropy', random_state=0)\n",
        "\n",
        "# Fit the classifier on the training data\n",
        "dt_classifier.fit(X_train, Y_train)\n",
        "\n",
        "# Predict the labels of the test data\n",
        "Y_pred = dt_classifier.predict(X_test)\n",
        "\n",
        "# Compute the accuracy, recall, precision, and confusion matrix\n",
        "accuracy = accuracy_score(Y_test, Y_pred)\n",
        "recall = recall_score(Y_test, Y_pred)\n",
        "precision = precision_score(Y_test, Y_pred)\n",
        "confusion_mat = confusion_matrix(Y_test, Y_pred)\n",
        "\n",
        "# Print the accuracy, recall, precision, and confusion matrix\n",
        "print(\"Accuracy:\", accuracy)\n",
        "print(\"Recall:\", recall)\n",
        "print(\"Precision:\", precision)\n",
        "print(\"Confusion Matrix:\")\n",
        "print(confusion_mat)"
      ],
      "metadata": {
        "colab": {
          "base_uri": "https://localhost:8080/"
        },
        "id": "STSCsr5uiPcL",
        "outputId": "73a78fc4-c80b-41a1-ba7f-84ec252e1f11"
      },
      "execution_count": 59,
      "outputs": [
        {
          "output_type": "stream",
          "name": "stdout",
          "text": [
            "Accuracy: 0.7968\n",
            "Recall: 0.5\n",
            "Precision: 0.5118110236220472\n",
            "Confusion Matrix:\n",
            "[[1732  248]\n",
            " [ 260  260]]\n"
          ]
        }
      ]
    },
    {
      "cell_type": "code",
      "source": [
        "import matplotlib.pyplot as plt\n",
        "import seaborn as sns\n",
        "\n",
        "# Compute confusion matrix as percentages\n",
        "total = confusion_mat.sum()\n",
        "confusion_mat_percent = confusion_mat / total\n",
        "\n",
        "# Plot the confusion matrix\n",
        "plt.figure(figsize=(6, 4))\n",
        "sns.heatmap(confusion_mat_percent, annot=True, cmap='Blues', fmt='.2%')\n",
        "plt.xlabel('Predicted Labels')\n",
        "plt.ylabel('True Labels')\n",
        "plt.title('Confusion Matrix - Decision Tree')\n",
        "plt.show()\n",
        "\n",
        "# Print false positive, true positive, false negative and true negative\n",
        "tn, fp, fn, tp = confusion_mat.ravel()\n",
        "print('True Negatives:', \"{:.2%}\".format(tn/total))\n",
        "print('False Positives:', \"{:.2%}\".format(fp/total))\n",
        "print('False Negatives:', \"{:.2%}\".format(fn/total))\n",
        "print('True Positives:', \"{:.2%}\".format(tp/total))\n",
        "print('\\n')"
      ],
      "metadata": {
        "colab": {
          "base_uri": "https://localhost:8080/",
          "height": 514
        },
        "id": "RT2bA8x1sfY6",
        "outputId": "6faab682-c449-4223-acd3-b26b0d2eee1c"
      },
      "execution_count": 60,
      "outputs": [
        {
          "output_type": "display_data",
          "data": {
            "text/plain": [
              "<Figure size 600x400 with 2 Axes>"
            ],
            "image/png": "[encoded data removed]"
          },
          "metadata": {}
        },
        {
          "output_type": "stream",
          "name": "stdout",
          "text": [
            "True Negatives: 69.28%\n",
            "False Positives: 9.92%\n",
            "False Negatives: 10.40%\n",
            "True Positives: 10.40%\n",
            "\n",
            "\n"
          ]
        }
      ]
    },
    {
      "cell_type": "markdown",
      "source": [
        "#Random Forest"
      ],
      "metadata": {
        "id": "fweGcZN7kSWr"
      }
    },
    {
      "cell_type": "code",
      "source": [
        "from sklearn.ensemble import RandomForestClassifier\n",
        "from sklearn.metrics import accuracy_score, recall_score, precision_score, confusion_matrix\n",
        "\n",
        "# Create a Random Forest Classifier object with 100 estimators\n",
        "rf_classifier = RandomForestClassifier(n_estimators=100, random_state=0)\n",
        "\n",
        "# Fit the classifier on the training data\n",
        "rf_classifier.fit(X_train, Y_train)\n",
        "\n",
        "# Predict the labels of the test data\n",
        "Y_pred = rf_classifier.predict(X_test)\n",
        "\n",
        "# Compute the accuracy, recall, precision, and confusion matrix\n",
        "accuracy = accuracy_score(Y_test, Y_pred)\n",
        "recall = recall_score(Y_test, Y_pred)\n",
        "precision = precision_score(Y_test, Y_pred)\n",
        "confusion_mat = confusion_matrix(Y_test, Y_pred)\n",
        "\n",
        "# Print the accuracy, recall, precision, and confusion matrix\n",
        "print(\"Accuracy:\", accuracy)\n",
        "print(\"Recall:\", recall)\n",
        "print(\"Precision:\", precision)\n",
        "print(\"Confusion Matrix:\")\n",
        "print(confusion_mat)"
      ],
      "metadata": {
        "colab": {
          "base_uri": "https://localhost:8080/"
        },
        "id": "ONUS4dIjjQgD",
        "outputId": "804d854c-bf82-4c39-f649-3aca9962485b"
      },
      "execution_count": 61,
      "outputs": [
        {
          "output_type": "stream",
          "name": "stdout",
          "text": [
            "Accuracy: 0.8512\n",
            "Recall: 0.425\n",
            "Precision: 0.7517006802721088\n",
            "Confusion Matrix:\n",
            "[[1907   73]\n",
            " [ 299  221]]\n"
          ]
        }
      ]
    },
    {
      "cell_type": "code",
      "source": [
        "import matplotlib.pyplot as plt\n",
        "import seaborn as sns\n",
        "\n",
        "# Compute confusion matrix as percentages\n",
        "total = confusion_mat.sum()\n",
        "confusion_mat_percent = confusion_mat / total\n",
        "\n",
        "# Plot the confusion matrix\n",
        "plt.figure(figsize=(6, 4))\n",
        "sns.heatmap(confusion_mat_percent, annot=True, cmap='Blues', fmt='.2%')\n",
        "plt.xlabel('Predicted Labels')\n",
        "plt.ylabel('True Labels')\n",
        "plt.title('Confusion Matrix - Random forest')\n",
        "plt.show()\n",
        "\n",
        "# Print false positive, true positive, false negative and true negative\n",
        "tn, fp, fn, tp = confusion_mat.ravel()\n",
        "print('True Negatives:', \"{:.2%}\".format(tn/total))\n",
        "print('False Positives:', \"{:.2%}\".format(fp/total))\n",
        "print('False Negatives:', \"{:.2%}\".format(fn/total))\n",
        "print('True Positives:', \"{:.2%}\".format(tp/total))\n",
        "print('\\n')"
      ],
      "metadata": {
        "colab": {
          "base_uri": "https://localhost:8080/",
          "height": 514
        },
        "id": "m9u8_MgsoAra",
        "outputId": "6fda179f-b541-4179-f4c8-fea13721df93"
      },
      "execution_count": 62,
      "outputs": [
        {
          "output_type": "display_data",
          "data": {
            "text/plain": [
              "<Figure size 600x400 with 2 Axes>"
            ],
            "image/png": "[encoded data removed]"
          },
          "metadata": {}
        },
        {
          "output_type": "stream",
          "name": "stdout",
          "text": [
            "True Negatives: 76.28%\n",
            "False Positives: 2.92%\n",
            "False Negatives: 11.96%\n",
            "True Positives: 8.84%\n",
            "\n",
            "\n"
          ]
        }
      ]
    },
    {
      "cell_type": "markdown",
      "source": [
        "#MLP classifier"
      ],
      "metadata": {
        "id": "ZOpj6lwxkfZJ"
      }
    },
    {
      "cell_type": "code",
      "source": [
        "from sklearn.neural_network import MLPClassifier\n",
        "from sklearn.metrics import accuracy_score, recall_score, precision_score, confusion_matrix\n",
        "\n",
        "\n",
        "# Create an MLP Classifier object with a hidden layer size of (20, 10)\n",
        "mlp_classifier = MLPClassifier(hidden_layer_sizes=(20, 10), alpha=0.001, max_iter=200)\n",
        "\n",
        "# Fit the classifier on the training data\n",
        "mlp_classifier.fit(X_train, Y_train)\n",
        "\n",
        "# Predict the labels of the test data\n",
        "Y_pred = mlp_classifier.predict(X_test)\n",
        "\n",
        "# Compute the accuracy, recall, precision, and confusion matrix\n",
        "accuracy = accuracy_score(Y_test, Y_pred)\n",
        "recall = recall_score(Y_test, Y_pred)\n",
        "precision = precision_score(Y_test, Y_pred)\n",
        "confusion_mat = confusion_matrix(Y_test, Y_pred)\n",
        "\n",
        "# Print the accuracy, recall, precision, and confusion matrix\n",
        "print(\"Accuracy:\", accuracy)\n",
        "print(\"Recall:\", recall)\n",
        "print(\"Precision:\", precision)\n",
        "print(\"Confusion Matrix:\")\n",
        "print(confusion_mat)"
      ],
      "metadata": {
        "colab": {
          "base_uri": "https://localhost:8080/"
        },
        "id": "-R-X2zNHkX7K",
        "outputId": "cb41d2e9-d9bb-4d86-c25c-e1f97bdb7da1"
      },
      "execution_count": 63,
      "outputs": [
        {
          "output_type": "stream",
          "name": "stdout",
          "text": [
            "Accuracy: 0.792\n",
            "Recall: 0.0\n",
            "Precision: 0.0\n",
            "Confusion Matrix:\n",
            "[[1980    0]\n",
            " [ 520    0]]\n"
          ]
        },
        {
          "output_type": "stream",
          "name": "stderr",
          "text": [
            "/usr/local/lib/python3.9/dist-packages/sklearn/metrics/_classification.py:1344: UndefinedMetricWarning: Precision is ill-defined and being set to 0.0 due to no predicted samples. Use `zero_division` parameter to control this behavior.\n",
            "  _warn_prf(average, modifier, msg_start, len(result))\n"
          ]
        }
      ]
    },
    {
      "cell_type": "code",
      "source": [
        "from sklearn.tree import DecisionTreeClassifier\n",
        "from sklearn.metrics import accuracy_score, recall_score, precision_score, confusion_matrix\n",
        "from sklearn.neural_network import MLPClassifier\n",
        "\n",
        "# Split the dataset into training, testing, and validation sets\n",
        "X_train, X_test, Y_train, Y_test = train_test_split(X, Y, test_size=0.3, random_state=1)\n",
        "X_val, X_test, Y_val, Y_test = train_test_split(X_test, Y_test, test_size=0.5, random_state=1)\n",
        "\n",
        "# Create an MLP Classifier object with hidden layer sizes (20, 10), alpha=0.001, and max_iter=200\n",
        "mlp_classifier = MLPClassifier(hidden_layer_sizes=(20, 10), alpha=0.001, max_iter=200, random_state=0)\n",
        "\n",
        "# Fit the classifier on the training data\n",
        "mlp_classifier.fit(X_train, Y_train)\n",
        "\n",
        "# Predict the labels of the validation data\n",
        "Y_val_pred = mlp_classifier.predict(X_val)\n",
        "\n",
        "# Predict the labels of the test data\n",
        "Y_pred = mlp_classifier.predict(X_test)\n",
        "\n",
        "# Compute the accuracy, recall, precision, and confusion matrix for validation data\n",
        "accuracy_val = accuracy_score(Y_val, Y_val_pred)\n",
        "recall_val = recall_score(Y_val, Y_val_pred)\n",
        "precision_val = precision_score(Y_val, Y_val_pred)\n",
        "confusion_mat_val = confusion_matrix(Y_val, Y_val_pred)\n",
        "\n",
        "# Compute the accuracy, recall, precision, and confusion matrix for test data\n",
        "accuracy = accuracy_score(Y_test, Y_pred)\n",
        "recall = recall_score(Y_test, Y_pred)\n",
        "precision = precision_score(Y_test, Y_pred)\n",
        "confusion_mat = confusion_matrix(Y_test, Y_pred)\n",
        "\n",
        "# Print the accuracy, recall, precision, and confusion matrix for validation data\n",
        "print(\"Validation Set - Accuracy:\", accuracy_val)\n",
        "print(\"Validation Set - Recall:\", recall_val)\n",
        "print(\"Validation Set - Precision:\", precision_val)\n",
        "print(\"Validation Set - Confusion Matrix:\")\n",
        "print(confusion_mat_val)\n",
        "print('\\n')\n",
        "\n",
        "# Print the accuracy, recall, precision, and confusion matrix for test data\n",
        "print(\"Test Set - Accuracy:\", accuracy)\n",
        "print(\"Test Set - Recall:\", recall)\n",
        "print(\"Test Set - Precision:\", precision)\n",
        "print(\"Test Set - Confusion Matrix:\")\n",
        "print(confusion_mat)\n"
      ],
      "metadata": {
        "colab": {
          "base_uri": "https://localhost:8080/"
        },
        "id": "lNOoIYvUtxQe",
        "outputId": "17e93c84-3e53-4bd1-da8d-e49afde5a21c"
      },
      "execution_count": 66,
      "outputs": [
        {
          "output_type": "stream",
          "name": "stdout",
          "text": [
            "Validation Set - Accuracy: 0.7873333333333333\n",
            "Validation Set - Recall: 0.0\n",
            "Validation Set - Precision: 0.0\n",
            "Validation Set - Confusion Matrix:\n",
            "[[1181    0]\n",
            " [ 319    0]]\n",
            "\n",
            "\n",
            "Test Set - Accuracy: 0.7946666666666666\n",
            "Test Set - Recall: 0.0\n",
            "Test Set - Precision: 0.0\n",
            "Test Set - Confusion Matrix:\n",
            "[[1192    0]\n",
            " [ 308    0]]\n"
          ]
        },
        {
          "output_type": "stream",
          "name": "stderr",
          "text": [
            "/usr/local/lib/python3.9/dist-packages/sklearn/metrics/_classification.py:1344: UndefinedMetricWarning: Precision is ill-defined and being set to 0.0 due to no predicted samples. Use `zero_division` parameter to control this behavior.\n",
            "  _warn_prf(average, modifier, msg_start, len(result))\n",
            "/usr/local/lib/python3.9/dist-packages/sklearn/metrics/_classification.py:1344: UndefinedMetricWarning: Precision is ill-defined and being set to 0.0 due to no predicted samples. Use `zero_division` parameter to control this behavior.\n",
            "  _warn_prf(average, modifier, msg_start, len(result))\n"
          ]
        }
      ]
    },
    {
      "cell_type": "code",
      "source": [
        "import matplotlib.pyplot as plt\n",
        "import seaborn as sns\n",
        "\n",
        "# Compute confusion matrix\n",
        "conf_matrix = confusion_matrix(Y_test, Y_pred)\n",
        "\n",
        "# Plot confusion matrix\n",
        "sns.heatmap(conf_matrix/np.sum(conf_matrix), annot=True, fmt='.2%', cmap='Blues')\n",
        "plt.xlabel('Predicted Labels')\n",
        "plt.ylabel('True Labels')\n",
        "plt.title('Confusion Matrix')\n",
        "plt.show()\n",
        "\n",
        "# Print false positive, true positive, false negative and true negative\n",
        "tn, fp, fn, tp = confusion_mat.ravel()\n",
        "print('True Negatives:', \"{:.2%}\".format(tn/total))\n",
        "print('False Positives:', \"{:.2%}\".format(fp/total))\n",
        "print('False Negatives:', \"{:.2%}\".format(fn/total))\n",
        "print('True Positives:', \"{:.2%}\".format(tp/total))\n",
        "print('\\n')"
      ],
      "metadata": {
        "colab": {
          "base_uri": "https://localhost:8080/",
          "height": 576
        },
        "id": "br_xbzoBoQN0",
        "outputId": "11b43046-8111-4374-f154-a932b276f578"
      },
      "execution_count": 70,
      "outputs": [
        {
          "output_type": "display_data",
          "data": {
            "text/plain": [
              "<Figure size 640x480 with 2 Axes>"
            ],
            "image/png": "[encoded data removed]"
          },
          "metadata": {}
        },
        {
          "output_type": "stream",
          "name": "stdout",
          "text": [
            "True Negatives: 79.47%\n",
            "False Positives: 0.00%\n",
            "False Negatives: 20.53%\n",
            "True Positives: 0.00%\n",
            "\n",
            "\n"
          ]
        }
      ]
    },
    {
      "cell_type": "markdown",
      "source": [
        "There is no false positive nor true positive becauyse for neural network, the split should be divided in 3 set, validation, test and train. Indeed, NN train on train set and test set. Then we compute the metrics with validation test to test our prediction when the model is trained. \n",
        "\n",
        "Random forest and decision tree are regular machine learning model not NN. Thus, 2 split train and test are enough"
      ],
      "metadata": {
        "id": "em6ZXaNioVWA"
      }
    },
    {
      "cell_type": "markdown",
      "source": [
        "###V. "
      ],
      "metadata": {
        "id": "be7X8k-elcVB"
      }
    },
    {
      "cell_type": "markdown",
      "source": [
        "1. Increasing the training set will not improove accuracy on new data. Maybe it will increase train accuracy but the model will overfit."
      ],
      "metadata": {
        "id": "dobMnKVBliUm"
      }
    },
    {
      "cell_type": "markdown",
      "source": [
        "2. In philosophy of science, an AI is an induction. It is way to explain reality from particular example get from it a general knowledge, a sort of rule. In your case a function that compute prediction.\n",
        "\n",
        "Induction is by definition very limited, an AI is learning almost by heart the data, it is really good at this but when the model is expose to new data it failed to predict well. This is overfitting. Every AI tend to overfit if the data scientist do his job to correct this. \n",
        "\n",
        "In mathematics, fitting the curb of the model's function to close to the point of the train data to get 100% on train set. A good generalization tend to be a model that is not try to explain all the label for each point, but generalize better, get lower accuracy on train set but better test set and validation set (new data)."
      ],
      "metadata": {
        "id": "R5iC62ZGlwni"
      }
    },
    {
      "cell_type": "markdown",
      "source": [
        "3. The train accuracy is too high and test and validation accuracy is too low."
      ],
      "metadata": {
        "id": "GB-BbziqnMfi"
      }
    },
    {
      "cell_type": "markdown",
      "source": [
        "VI.\n",
        "\n",
        "1. The best model is random forest classifier with 0,85%. It could be improove by balancing the dataset between client that churn annd client that stay. Indeed, there is big difference between false negative and false positive is important, it predict better when client won't quite. Which make sense considering the unbalanced dataset in that direction (more information about clients staying than leaving).\n",
        "\n",
        "Recall is the ratio of true positives to the sum of true positives and false negatives. It measures the proportion of actual positive cases (clients who exit from their subscription) that are correctly identified by the model as positive. In other words, it is the percentage of clients who actually left and were correctly identified as leaving by the model.\n",
        "\n",
        "Precision is the ratio of true positives to the sum of true positives and false positives. It measures the proportion of predicted positive cases that are actually positive. In other words, it is the percentage of clients predicted to leave who actually left.\n",
        "\n",
        "In this context, high recall means that the model is correctly identifying a high proportion of the clients who will actually leave their subscription. High precision means that when the model predicts a client will leave their subscription, it is correct most of the time. A good model should have both high recall and high precision."
      ],
      "metadata": {
        "id": "hblBVXZNo7_9"
      }
    },
    {
      "cell_type": "markdown",
      "source": [
        "2. "
      ],
      "metadata": {
        "id": "nj2__4XorNe8"
      }
    },
    {
      "cell_type": "code",
      "source": [
        "import matplotlib.pyplot as plt\n",
        "from sklearn.ensemble import RandomForestClassifier\n",
        "\n",
        "# assuming X_train and y_train are the training data\n",
        "rfc = RandomForestClassifier(n_estimators=100, random_state=0)\n",
        "rfc.fit(X_train, Y_train)\n",
        "\n",
        "# get feature importances and their names\n",
        "importances = rfc.feature_importances_\n",
        "feature_names = df.columns[:-1]\n",
        "\n",
        "# sort features by importance\n",
        "sorted_idx = importances.argsort()\n",
        "\n",
        "# plot feature importances\n",
        "plt.barh(range(len(sorted_idx)), importances[sorted_idx])\n",
        "plt.yticks(range(len(sorted_idx)), [feature_names[i] for i in sorted_idx])\n",
        "plt.xlabel('Feature Importance')\n",
        "plt.show()"
      ],
      "metadata": {
        "colab": {
          "base_uri": "https://localhost:8080/",
          "height": 442
        },
        "id": "QkWH3_4uki7T",
        "outputId": "91320d22-cbdf-4e84-ad1a-7d7bbd255673"
      },
      "execution_count": 65,
      "outputs": [
        {
          "output_type": "display_data",
          "data": {
            "text/plain": [
              "<Figure size 640x480 with 1 Axes>"
            ],
            "image/png": "[encoded data removed]"
          },
          "metadata": {}
        }
      ]
    },
    {
      "cell_type": "code",
      "source": [],
      "metadata": {
        "id": "TNBTT-eOrl1_"
      },
      "execution_count": 65,
      "outputs": []
    }
  ]
}